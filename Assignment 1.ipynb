{
 "cells": [
  {
   "cell_type": "markdown",
   "id": "6423d51b",
   "metadata": {},
   "source": [
    "1. In the below elements which of them are values or an expression? eg:- values can be\n",
    "integer or string and expressions will be mathematical operators.\n",
    "\n",
    "* = Expression\n",
    "\"hello\" = Value\n",
    "-87.8 = value\n",
    "- = Expression\n",
    "/ = Expression\n",
    "+ = Expression\n",
    "6 = Value"
   ]
  },
  {
   "cell_type": "code",
   "execution_count": null,
   "id": "daad76e3",
   "metadata": {},
   "outputs": [],
   "source": [
    "2. What is the difference between string and variable?\n",
    "\n",
    "String is Data Type just like Integer or Float.\n",
    "Variable is a box which stores data.\n",
    "String data can be stored in a Variable."
   ]
  },
  {
   "cell_type": "code",
   "execution_count": null,
   "id": "2a8c4c75",
   "metadata": {},
   "outputs": [],
   "source": [
    "3.Describe three different data types.\n",
    "\n",
    "String = \"Sourav\", \"Dey\"\n",
    "Integer = 1234\n",
    "Float = 123.45"
   ]
  },
  {
   "cell_type": "code",
   "execution_count": null,
   "id": "bde01f28",
   "metadata": {},
   "outputs": [],
   "source": [
    "4. What is an expression made up of? What do all expressions do?\n",
    "\n",
    "Expression is made up with operators and operands. By using an expression we get can some other value\n",
    "\n",
    "For example: \"+\" is the Operator and \"56\"&\"50\" are the operands\n",
    "a = 56\n",
    "b = 50\n",
    "c = a+b\n",
    "print(c)  \n",
    "\n",
    "Output we will get as 106"
   ]
  },
  {
   "cell_type": "code",
   "execution_count": null,
   "id": "4f4a44f2",
   "metadata": {},
   "outputs": [],
   "source": [
    "5. This assignment statements, like spam = 10. What is the difference between an\n",
    "expression and a statement?\n",
    "\n",
    "Expression is always intend to produce or indicate a value, whereas Statement can be anything like displaying a value or holding a vairable, whatever the statements says.\n",
    "spam = 10 its a statement, spam is holding a variable, which has a value of 10"
   ]
  },
  {
   "cell_type": "code",
   "execution_count": 5,
   "id": "a4b83c93",
   "metadata": {},
   "outputs": [
    {
     "name": "stdout",
     "output_type": "stream",
     "text": [
      "Object `contain` not found.\n"
     ]
    },
    {
     "data": {
      "text/plain": [
       "23"
      ]
     },
     "execution_count": 5,
     "metadata": {},
     "output_type": "execute_result"
    }
   ],
   "source": [
    "6. After running the following code, what does the variable bacon contain?\n",
    "bacon = 22\n",
    "bacon + 1\n",
    "\n",
    "bacon has an initial variable as 22, now we are making an expression with \"+\" operator, and now its became 23"
   ]
  },
  {
   "cell_type": "code",
   "execution_count": 6,
   "id": "4b8dc434",
   "metadata": {},
   "outputs": [],
   "source": [
    "a = \"spam\" + \"spamspam\""
   ]
  },
  {
   "cell_type": "code",
   "execution_count": 7,
   "id": "7b4d2657",
   "metadata": {},
   "outputs": [
    {
     "data": {
      "text/plain": [
       "'spamspamspam'"
      ]
     },
     "execution_count": 7,
     "metadata": {},
     "output_type": "execute_result"
    }
   ],
   "source": [
    "a"
   ]
  },
  {
   "cell_type": "code",
   "execution_count": 8,
   "id": "ce9ab82f",
   "metadata": {},
   "outputs": [],
   "source": [
    "a = \"spam\" * 3"
   ]
  },
  {
   "cell_type": "code",
   "execution_count": 11,
   "id": "d5375c81",
   "metadata": {},
   "outputs": [
    {
     "data": {
      "text/plain": [
       "'spamspamspam'"
      ]
     },
     "execution_count": 11,
     "metadata": {},
     "output_type": "execute_result"
    }
   ],
   "source": [
    "a"
   ]
  },
  {
   "cell_type": "code",
   "execution_count": null,
   "id": "ef3b6e99",
   "metadata": {},
   "outputs": [],
   "source": [
    "In question 7, first we are doing concatination and then Multiplication"
   ]
  },
  {
   "cell_type": "code",
   "execution_count": null,
   "id": "16097102",
   "metadata": {},
   "outputs": [],
   "source": [
    "8. Why is eggs a valid variable name while 100 is invalid?\n",
    "\n",
    "eggs is a string value which can connect to the source code of python, but and integer(for ex: 100) can't"
   ]
  },
  {
   "cell_type": "code",
   "execution_count": null,
   "id": "51f16f3e",
   "metadata": {},
   "outputs": [],
   "source": [
    "9. What three functions can be used to get the integer, floating-point number, or string\n",
    "version of a value?\n",
    "\n",
    "int()  to get integer\n",
    "str()  to get string\n",
    "float()to get floating-point number"
   ]
  },
  {
   "cell_type": "code",
   "execution_count": null,
   "id": "535696ae",
   "metadata": {},
   "outputs": [],
   "source": [
    "10. Why does this expression cause an error? How can you fix it?\n",
    "'I have eaten' + 99 + 'burritos'\n",
    "\n",
    "Becuase str to str can concatenate, but str to int can't.\n",
    "so we can fix this in the below way"
   ]
  },
  {
   "cell_type": "code",
   "execution_count": 14,
   "id": "8502d6f1",
   "metadata": {},
   "outputs": [],
   "source": [
    "a= 'I have eaten' + \" 99 \" + 'burritos'"
   ]
  },
  {
   "cell_type": "code",
   "execution_count": 15,
   "id": "cc86600c",
   "metadata": {},
   "outputs": [
    {
     "data": {
      "text/plain": [
       "'I have eaten 99 burritos'"
      ]
     },
     "execution_count": 15,
     "metadata": {},
     "output_type": "execute_result"
    }
   ],
   "source": [
    "a"
   ]
  },
  {
   "cell_type": "code",
   "execution_count": null,
   "id": "2ae59204",
   "metadata": {},
   "outputs": [],
   "source": []
  }
 ],
 "metadata": {
  "kernelspec": {
   "display_name": "Python 3 (ipykernel)",
   "language": "python",
   "name": "python3"
  },
  "language_info": {
   "codemirror_mode": {
    "name": "ipython",
    "version": 3
   },
   "file_extension": ".py",
   "mimetype": "text/x-python",
   "name": "python",
   "nbconvert_exporter": "python",
   "pygments_lexer": "ipython3",
   "version": "3.9.7"
  }
 },
 "nbformat": 4,
 "nbformat_minor": 5
}
